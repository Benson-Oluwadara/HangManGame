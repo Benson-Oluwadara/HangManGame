{
 "cells": [
  {
   "cell_type": "code",
   "execution_count": 6,
   "metadata": {},
   "outputs": [
    {
     "name": "stdout",
     "output_type": "stream",
     "text": [
      "['orange', 'banana', 'apple', 'pineapple', 'pearl']\n",
      "pineapple\n",
      "Oops! That is not a valid input.\n"
     ]
    }
   ],
   "source": [
    "import random\n",
    "word_list=['orange','banana','apple','pineapple','pearl']\n",
    "print(word_list)\n",
    "\n",
    "word=random.choice(word_list)\n",
    "print(word)\n",
    "\n",
    "guess=input(\"Guess a letter\")\n",
    "if len(guess)==1 and guess.isalpha()==True:\n",
    "    print(\"Good Guess!\")\n",
    "else:\n",
    "    print(\"Oops! That is not a valid input.\") \n"
   ]
  }
 ],
 "metadata": {
  "kernelspec": {
   "display_name": "Python 3.10.5 64-bit",
   "language": "python",
   "name": "python3"
  },
  "language_info": {
   "codemirror_mode": {
    "name": "ipython",
    "version": 3
   },
   "file_extension": ".py",
   "mimetype": "text/x-python",
   "name": "python",
   "nbconvert_exporter": "python",
   "pygments_lexer": "ipython3",
   "version": "3.10.5"
  },
  "orig_nbformat": 4,
  "vscode": {
   "interpreter": {
    "hash": "fbc768028c3e6ead51d9a200ddcb2ec858ae62844dcd1994729a8279be9b48f2"
   }
  }
 },
 "nbformat": 4,
 "nbformat_minor": 2
}
